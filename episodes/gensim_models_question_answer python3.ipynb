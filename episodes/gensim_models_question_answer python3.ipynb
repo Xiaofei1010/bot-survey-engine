{
 "cells": [
  {
   "cell_type": "code",
   "execution_count": 1,
   "metadata": {
    "collapsed": true
   },
   "outputs": [],
   "source": [
    "import pandas as pd\n",
    "import numpy as np\n",
    "import gensim\n",
    "from gensim.models import Word2Vec\n",
    "import nltk\n",
    "import string\n",
    "import os\n",
    "import collections\n",
    "import smart_open\n",
    "import random\n",
    "import datetime\n",
    "import json\n",
    "import re\n",
    "import heapq\n",
    "import pickle\n",
    "import sys\n",
    "from sklearn.feature_extraction.text import TfidfVectorizer"
   ]
  },
  {
   "cell_type": "markdown",
   "metadata": {},
   "source": [
    "# Understand the table"
   ]
  },
  {
   "cell_type": "code",
   "execution_count": 2,
   "metadata": {},
   "outputs": [
    {
     "data": {
      "text/html": [
       "<div>\n",
       "<table border=\"1\" class=\"dataframe\">\n",
       "  <thead>\n",
       "    <tr style=\"text-align: right;\">\n",
       "      <th></th>\n",
       "      <th>Id</th>\n",
       "      <th>PostTypeId</th>\n",
       "      <th>ParentId</th>\n",
       "      <th>AcceptedAnswerId</th>\n",
       "      <th>CreationDate</th>\n",
       "      <th>Score</th>\n",
       "      <th>ViewCount</th>\n",
       "      <th>Body</th>\n",
       "      <th>OwnerUserId</th>\n",
       "      <th>LastActivityDate</th>\n",
       "      <th>Title</th>\n",
       "      <th>Tags</th>\n",
       "      <th>AnswerCount</th>\n",
       "      <th>CommentCount</th>\n",
       "      <th>FavoriteCount</th>\n",
       "    </tr>\n",
       "  </thead>\n",
       "  <tbody>\n",
       "    <tr>\n",
       "      <th>0</th>\n",
       "      <td>1</td>\n",
       "      <td>1</td>\n",
       "      <td>NaN</td>\n",
       "      <td>15.0</td>\n",
       "      <td>2010-07-19T19:12:12.510</td>\n",
       "      <td>36</td>\n",
       "      <td>2577.0</td>\n",
       "      <td>How should I elicit prior distributions from e...</td>\n",
       "      <td>8.0</td>\n",
       "      <td>2010-09-15T21:08:26.077</td>\n",
       "      <td>Eliciting priors from experts</td>\n",
       "      <td>&lt;bayesian&gt;&lt;prior&gt;&lt;elicitation&gt;</td>\n",
       "      <td>5.0</td>\n",
       "      <td>1</td>\n",
       "      <td>23.0</td>\n",
       "    </tr>\n",
       "    <tr>\n",
       "      <th>1</th>\n",
       "      <td>2</td>\n",
       "      <td>1</td>\n",
       "      <td>NaN</td>\n",
       "      <td>59.0</td>\n",
       "      <td>2010-07-19T19:12:57.157</td>\n",
       "      <td>29</td>\n",
       "      <td>23368.0</td>\n",
       "      <td>In many different statistical methods there is...</td>\n",
       "      <td>24.0</td>\n",
       "      <td>2016-06-27T06:44:40.147</td>\n",
       "      <td>What is normality?</td>\n",
       "      <td>&lt;distributions&gt;&lt;normality&gt;</td>\n",
       "      <td>7.0</td>\n",
       "      <td>1</td>\n",
       "      <td>10.0</td>\n",
       "    </tr>\n",
       "    <tr>\n",
       "      <th>2</th>\n",
       "      <td>3</td>\n",
       "      <td>1</td>\n",
       "      <td>NaN</td>\n",
       "      <td>5.0</td>\n",
       "      <td>2010-07-19T19:13:28.577</td>\n",
       "      <td>66</td>\n",
       "      <td>5792.0</td>\n",
       "      <td>What are some valuable Statistical Analysis op...</td>\n",
       "      <td>18.0</td>\n",
       "      <td>2013-05-27T14:48:36.927</td>\n",
       "      <td>What are some valuable Statistical Analysis op...</td>\n",
       "      <td>&lt;software&gt;&lt;open-source&gt;</td>\n",
       "      <td>19.0</td>\n",
       "      <td>4</td>\n",
       "      <td>39.0</td>\n",
       "    </tr>\n",
       "    <tr>\n",
       "      <th>3</th>\n",
       "      <td>4</td>\n",
       "      <td>1</td>\n",
       "      <td>NaN</td>\n",
       "      <td>135.0</td>\n",
       "      <td>2010-07-19T19:13:31.617</td>\n",
       "      <td>17</td>\n",
       "      <td>26414.0</td>\n",
       "      <td>I have two groups of data.  Each with a differ...</td>\n",
       "      <td>23.0</td>\n",
       "      <td>2010-09-08T03:00:19.690</td>\n",
       "      <td>Assessing the significance of differences in d...</td>\n",
       "      <td>&lt;distributions&gt;&lt;statistical-significance&gt;</td>\n",
       "      <td>5.0</td>\n",
       "      <td>2</td>\n",
       "      <td>5.0</td>\n",
       "    </tr>\n",
       "    <tr>\n",
       "      <th>4</th>\n",
       "      <td>5</td>\n",
       "      <td>2</td>\n",
       "      <td>3.0</td>\n",
       "      <td>NaN</td>\n",
       "      <td>2010-07-19T19:14:43.050</td>\n",
       "      <td>87</td>\n",
       "      <td>NaN</td>\n",
       "      <td>The R-project\\n\\nhttp://www.r-project.org/\\n\\n...</td>\n",
       "      <td>23.0</td>\n",
       "      <td>2010-07-19T19:21:15.063</td>\n",
       "      <td>NaN</td>\n",
       "      <td>NaN</td>\n",
       "      <td>NaN</td>\n",
       "      <td>3</td>\n",
       "      <td>NaN</td>\n",
       "    </tr>\n",
       "  </tbody>\n",
       "</table>\n",
       "</div>"
      ],
      "text/plain": [
       "   Id  PostTypeId  ParentId  AcceptedAnswerId             CreationDate  Score  \\\n",
       "0   1           1       NaN              15.0  2010-07-19T19:12:12.510     36   \n",
       "1   2           1       NaN              59.0  2010-07-19T19:12:57.157     29   \n",
       "2   3           1       NaN               5.0  2010-07-19T19:13:28.577     66   \n",
       "3   4           1       NaN             135.0  2010-07-19T19:13:31.617     17   \n",
       "4   5           2       3.0               NaN  2010-07-19T19:14:43.050     87   \n",
       "\n",
       "   ViewCount                                               Body  OwnerUserId  \\\n",
       "0     2577.0  How should I elicit prior distributions from e...          8.0   \n",
       "1    23368.0  In many different statistical methods there is...         24.0   \n",
       "2     5792.0  What are some valuable Statistical Analysis op...         18.0   \n",
       "3    26414.0  I have two groups of data.  Each with a differ...         23.0   \n",
       "4        NaN  The R-project\\n\\nhttp://www.r-project.org/\\n\\n...         23.0   \n",
       "\n",
       "          LastActivityDate                                              Title  \\\n",
       "0  2010-09-15T21:08:26.077                      Eliciting priors from experts   \n",
       "1  2016-06-27T06:44:40.147                                 What is normality?   \n",
       "2  2013-05-27T14:48:36.927  What are some valuable Statistical Analysis op...   \n",
       "3  2010-09-08T03:00:19.690  Assessing the significance of differences in d...   \n",
       "4  2010-07-19T19:21:15.063                                                NaN   \n",
       "\n",
       "                                        Tags  AnswerCount  CommentCount  \\\n",
       "0             <bayesian><prior><elicitation>          5.0             1   \n",
       "1                 <distributions><normality>          7.0             1   \n",
       "2                    <software><open-source>         19.0             4   \n",
       "3  <distributions><statistical-significance>          5.0             2   \n",
       "4                                        NaN          NaN             3   \n",
       "\n",
       "   FavoriteCount  \n",
       "0           23.0  \n",
       "1           10.0  \n",
       "2           39.0  \n",
       "3            5.0  \n",
       "4            NaN  "
      ]
     },
     "execution_count": 2,
     "metadata": {},
     "output_type": "execute_result"
    }
   ],
   "source": [
    "\n",
    "post_df = pd.read_csv('all_posts.csv', sep = \"\\t\")\n",
    "post_df.head()"
   ]
  },
  {
   "cell_type": "code",
   "execution_count": 3,
   "metadata": {},
   "outputs": [
    {
     "data": {
      "text/html": [
       "<div>\n",
       "<table border=\"1\" class=\"dataframe\">\n",
       "  <thead>\n",
       "    <tr style=\"text-align: right;\">\n",
       "      <th></th>\n",
       "      <th>Id</th>\n",
       "      <th>PostTypeId</th>\n",
       "      <th>ParentId</th>\n",
       "      <th>AcceptedAnswerId</th>\n",
       "      <th>CreationDate</th>\n",
       "      <th>Score</th>\n",
       "      <th>ViewCount</th>\n",
       "      <th>Body</th>\n",
       "      <th>OwnerUserId</th>\n",
       "      <th>LastActivityDate</th>\n",
       "      <th>Title</th>\n",
       "      <th>Tags</th>\n",
       "      <th>AnswerCount</th>\n",
       "      <th>CommentCount</th>\n",
       "      <th>FavoriteCount</th>\n",
       "    </tr>\n",
       "  </thead>\n",
       "  <tbody>\n",
       "    <tr>\n",
       "      <th>215957</th>\n",
       "      <td>299976</td>\n",
       "      <td>2</td>\n",
       "      <td>299970.0</td>\n",
       "      <td>NaN</td>\n",
       "      <td>2017-08-27T01:55:50.117</td>\n",
       "      <td>0</td>\n",
       "      <td>NaN</td>\n",
       "      <td>\\n  We cannot simulate separate values (becaus...</td>\n",
       "      <td>8336.0</td>\n",
       "      <td>2017-08-27T01:55:50.117</td>\n",
       "      <td>NaN</td>\n",
       "      <td>NaN</td>\n",
       "      <td>NaN</td>\n",
       "      <td>0</td>\n",
       "      <td>NaN</td>\n",
       "    </tr>\n",
       "    <tr>\n",
       "      <th>215958</th>\n",
       "      <td>299977</td>\n",
       "      <td>2</td>\n",
       "      <td>299963.0</td>\n",
       "      <td>NaN</td>\n",
       "      <td>2017-08-27T02:07:55.553</td>\n",
       "      <td>0</td>\n",
       "      <td>NaN</td>\n",
       "      <td>Neural networks could \"learn\" where the labels...</td>\n",
       "      <td>30621.0</td>\n",
       "      <td>2017-08-27T02:07:55.553</td>\n",
       "      <td>NaN</td>\n",
       "      <td>NaN</td>\n",
       "      <td>NaN</td>\n",
       "      <td>0</td>\n",
       "      <td>NaN</td>\n",
       "    </tr>\n",
       "    <tr>\n",
       "      <th>215959</th>\n",
       "      <td>299978</td>\n",
       "      <td>2</td>\n",
       "      <td>299669.0</td>\n",
       "      <td>NaN</td>\n",
       "      <td>2017-08-27T03:26:04.497</td>\n",
       "      <td>0</td>\n",
       "      <td>NaN</td>\n",
       "      <td>Calculating $\\displaystyle\\hat{t}_i=\\int t\\, p...</td>\n",
       "      <td>8336.0</td>\n",
       "      <td>2017-08-27T03:26:04.497</td>\n",
       "      <td>NaN</td>\n",
       "      <td>NaN</td>\n",
       "      <td>NaN</td>\n",
       "      <td>0</td>\n",
       "      <td>NaN</td>\n",
       "    </tr>\n",
       "    <tr>\n",
       "      <th>215960</th>\n",
       "      <td>299979</td>\n",
       "      <td>1</td>\n",
       "      <td>NaN</td>\n",
       "      <td>NaN</td>\n",
       "      <td>2017-08-27T03:52:26.230</td>\n",
       "      <td>0</td>\n",
       "      <td>2.0</td>\n",
       "      <td>I have collected primary data of BISP with hel...</td>\n",
       "      <td>175092.0</td>\n",
       "      <td>2017-08-27T03:52:26.230</td>\n",
       "      <td>What should be the solution of insignificant (...</td>\n",
       "      <td>&lt;statistical-significance&gt;</td>\n",
       "      <td>0.0</td>\n",
       "      <td>0</td>\n",
       "      <td>NaN</td>\n",
       "    </tr>\n",
       "    <tr>\n",
       "      <th>215961</th>\n",
       "      <td>299980</td>\n",
       "      <td>2</td>\n",
       "      <td>299446.0</td>\n",
       "      <td>NaN</td>\n",
       "      <td>2017-08-27T04:05:22.103</td>\n",
       "      <td>0</td>\n",
       "      <td>NaN</td>\n",
       "      <td>While it's possible to combine word embeddings...</td>\n",
       "      <td>107579.0</td>\n",
       "      <td>2017-08-27T04:05:22.103</td>\n",
       "      <td>NaN</td>\n",
       "      <td>NaN</td>\n",
       "      <td>NaN</td>\n",
       "      <td>0</td>\n",
       "      <td>NaN</td>\n",
       "    </tr>\n",
       "  </tbody>\n",
       "</table>\n",
       "</div>"
      ],
      "text/plain": [
       "            Id  PostTypeId  ParentId  AcceptedAnswerId  \\\n",
       "215957  299976           2  299970.0               NaN   \n",
       "215958  299977           2  299963.0               NaN   \n",
       "215959  299978           2  299669.0               NaN   \n",
       "215960  299979           1       NaN               NaN   \n",
       "215961  299980           2  299446.0               NaN   \n",
       "\n",
       "                   CreationDate  Score  ViewCount  \\\n",
       "215957  2017-08-27T01:55:50.117      0        NaN   \n",
       "215958  2017-08-27T02:07:55.553      0        NaN   \n",
       "215959  2017-08-27T03:26:04.497      0        NaN   \n",
       "215960  2017-08-27T03:52:26.230      0        2.0   \n",
       "215961  2017-08-27T04:05:22.103      0        NaN   \n",
       "\n",
       "                                                     Body  OwnerUserId  \\\n",
       "215957  \\n  We cannot simulate separate values (becaus...       8336.0   \n",
       "215958  Neural networks could \"learn\" where the labels...      30621.0   \n",
       "215959  Calculating $\\displaystyle\\hat{t}_i=\\int t\\, p...       8336.0   \n",
       "215960  I have collected primary data of BISP with hel...     175092.0   \n",
       "215961  While it's possible to combine word embeddings...     107579.0   \n",
       "\n",
       "               LastActivityDate  \\\n",
       "215957  2017-08-27T01:55:50.117   \n",
       "215958  2017-08-27T02:07:55.553   \n",
       "215959  2017-08-27T03:26:04.497   \n",
       "215960  2017-08-27T03:52:26.230   \n",
       "215961  2017-08-27T04:05:22.103   \n",
       "\n",
       "                                                    Title  \\\n",
       "215957                                                NaN   \n",
       "215958                                                NaN   \n",
       "215959                                                NaN   \n",
       "215960  What should be the solution of insignificant (...   \n",
       "215961                                                NaN   \n",
       "\n",
       "                              Tags  AnswerCount  CommentCount  FavoriteCount  \n",
       "215957                         NaN          NaN             0            NaN  \n",
       "215958                         NaN          NaN             0            NaN  \n",
       "215959                         NaN          NaN             0            NaN  \n",
       "215960  <statistical-significance>          0.0             0            NaN  \n",
       "215961                         NaN          NaN             0            NaN  "
      ]
     },
     "execution_count": 3,
     "metadata": {},
     "output_type": "execute_result"
    }
   ],
   "source": [
    "post_df.tail()"
   ]
  },
  {
   "cell_type": "markdown",
   "metadata": {},
   "source": [
    "### How many posts?"
   ]
  },
  {
   "cell_type": "code",
   "execution_count": 4,
   "metadata": {},
   "outputs": [
    {
     "data": {
      "text/plain": [
       "215962"
      ]
     },
     "execution_count": 4,
     "metadata": {},
     "output_type": "execute_result"
    }
   ],
   "source": [
    "n = post_df.shape[0]\n",
    "n"
   ]
  },
  {
   "cell_type": "code",
   "execution_count": 5,
   "metadata": {},
   "outputs": [
    {
     "data": {
      "text/plain": [
       "True"
      ]
     },
     "execution_count": 5,
     "metadata": {},
     "output_type": "execute_result"
    }
   ],
   "source": [
    "len(post_df['Id'].unique()) == post_df.shape[0] "
   ]
  },
  {
   "cell_type": "code",
   "execution_count": 6,
   "metadata": {},
   "outputs": [
    {
     "data": {
      "text/plain": [
       "107008"
      ]
     },
     "execution_count": 6,
     "metadata": {},
     "output_type": "execute_result"
    }
   ],
   "source": [
    "215962 - 108954"
   ]
  },
  {
   "cell_type": "markdown",
   "metadata": {},
   "source": [
    "### How many questions?"
   ]
  },
  {
   "cell_type": "code",
   "execution_count": 7,
   "metadata": {},
   "outputs": [
    {
     "data": {
      "text/plain": [
       "1    108954\n",
       "2    104797\n",
       "5      1091\n",
       "4      1091\n",
       "6        18\n",
       "3         6\n",
       "7         5\n",
       "Name: PostTypeId, dtype: int64"
      ]
     },
     "execution_count": 7,
     "metadata": {},
     "output_type": "execute_result"
    }
   ],
   "source": [
    "post_df['PostTypeId'].value_counts()"
   ]
  },
  {
   "cell_type": "code",
   "execution_count": 8,
   "metadata": {},
   "outputs": [
    {
     "data": {
      "text/plain": [
       "(108954, 15)"
      ]
     },
     "execution_count": 8,
     "metadata": {},
     "output_type": "execute_result"
    }
   ],
   "source": [
    "Type1 = post_df.loc[post_df['PostTypeId'] == 1]\n",
    "Type1.shape"
   ]
  },
  {
   "cell_type": "markdown",
   "metadata": {},
   "source": [
    "### Contents of questions"
   ]
  },
  {
   "cell_type": "code",
   "execution_count": 9,
   "metadata": {},
   "outputs": [
    {
     "data": {
      "text/plain": [
       "108937"
      ]
     },
     "execution_count": 9,
     "metadata": {},
     "output_type": "execute_result"
    }
   ],
   "source": [
    "len(Type1['Body'].unique()) "
   ]
  },
  {
   "cell_type": "code",
   "execution_count": 10,
   "metadata": {},
   "outputs": [
    {
     "data": {
      "text/plain": [
       "0"
      ]
     },
     "execution_count": 10,
     "metadata": {},
     "output_type": "execute_result"
    }
   ],
   "source": [
    "sum(Type1['Body'].isnull())"
   ]
  },
  {
   "cell_type": "markdown",
   "metadata": {},
   "source": [
    "\n",
    "So the unique values of \"Body\" is less than the number of questions. This is because some asked their\n",
    "questions more than once and maybe the titles are different, but the contents are exactly the same."
   ]
  },
  {
   "cell_type": "markdown",
   "metadata": {},
   "source": [
    "\n",
    "### Confirm answers to questions."
   ]
  },
  {
   "cell_type": "markdown",
   "metadata": {},
   "source": [
    "I found the answers to question_id = 1 online and get the rows from the table to check that their parentId is indeed 1. \n",
    "But only on answer is accepted and is called accepted_answer. "
   ]
  },
  {
   "cell_type": "code",
   "execution_count": 11,
   "metadata": {},
   "outputs": [
    {
     "data": {
      "text/html": [
       "<div>\n",
       "<table border=\"1\" class=\"dataframe\">\n",
       "  <thead>\n",
       "    <tr style=\"text-align: right;\">\n",
       "      <th></th>\n",
       "      <th>Id</th>\n",
       "      <th>PostTypeId</th>\n",
       "      <th>ParentId</th>\n",
       "      <th>AcceptedAnswerId</th>\n",
       "      <th>CreationDate</th>\n",
       "      <th>Score</th>\n",
       "      <th>ViewCount</th>\n",
       "      <th>Body</th>\n",
       "      <th>OwnerUserId</th>\n",
       "      <th>LastActivityDate</th>\n",
       "      <th>Title</th>\n",
       "      <th>Tags</th>\n",
       "      <th>AnswerCount</th>\n",
       "      <th>CommentCount</th>\n",
       "      <th>FavoriteCount</th>\n",
       "    </tr>\n",
       "  </thead>\n",
       "  <tbody>\n",
       "    <tr>\n",
       "      <th>14</th>\n",
       "      <td>15</td>\n",
       "      <td>2</td>\n",
       "      <td>1.0</td>\n",
       "      <td>NaN</td>\n",
       "      <td>2010-07-19T19:19:46.160</td>\n",
       "      <td>17</td>\n",
       "      <td>NaN</td>\n",
       "      <td>John Cook gives some interesting recommendatio...</td>\n",
       "      <td>6.0</td>\n",
       "      <td>2010-07-19T19:19:46.160</td>\n",
       "      <td>NaN</td>\n",
       "      <td>NaN</td>\n",
       "      <td>NaN</td>\n",
       "      <td>0</td>\n",
       "      <td>NaN</td>\n",
       "    </tr>\n",
       "  </tbody>\n",
       "</table>\n",
       "</div>"
      ],
      "text/plain": [
       "    Id  PostTypeId  ParentId  AcceptedAnswerId             CreationDate  \\\n",
       "14  15           2       1.0               NaN  2010-07-19T19:19:46.160   \n",
       "\n",
       "    Score  ViewCount                                               Body  \\\n",
       "14     17        NaN  John Cook gives some interesting recommendatio...   \n",
       "\n",
       "    OwnerUserId         LastActivityDate Title Tags  AnswerCount  \\\n",
       "14          6.0  2010-07-19T19:19:46.160   NaN  NaN          NaN   \n",
       "\n",
       "    CommentCount  FavoriteCount  \n",
       "14             0            NaN  "
      ]
     },
     "execution_count": 11,
     "metadata": {},
     "output_type": "execute_result"
    }
   ],
   "source": [
    "answer = 'John Cook gives some interesting recommendations.' # answer to question id = 1\n",
    "post_df.loc[post_df['Body'].apply(lambda x: answer in str(x))]"
   ]
  },
  {
   "cell_type": "code",
   "execution_count": 12,
   "metadata": {},
   "outputs": [
    {
     "data": {
      "text/html": [
       "<div>\n",
       "<table border=\"1\" class=\"dataframe\">\n",
       "  <thead>\n",
       "    <tr style=\"text-align: right;\">\n",
       "      <th></th>\n",
       "      <th>Id</th>\n",
       "      <th>PostTypeId</th>\n",
       "      <th>ParentId</th>\n",
       "      <th>AcceptedAnswerId</th>\n",
       "      <th>CreationDate</th>\n",
       "      <th>Score</th>\n",
       "      <th>ViewCount</th>\n",
       "      <th>Body</th>\n",
       "      <th>OwnerUserId</th>\n",
       "      <th>LastActivityDate</th>\n",
       "      <th>Title</th>\n",
       "      <th>Tags</th>\n",
       "      <th>AnswerCount</th>\n",
       "      <th>CommentCount</th>\n",
       "      <th>FavoriteCount</th>\n",
       "    </tr>\n",
       "  </thead>\n",
       "  <tbody>\n",
       "    <tr>\n",
       "      <th>142</th>\n",
       "      <td>154</td>\n",
       "      <td>2</td>\n",
       "      <td>1.0</td>\n",
       "      <td>NaN</td>\n",
       "      <td>2010-07-19T22:40:47.947</td>\n",
       "      <td>25</td>\n",
       "      <td>NaN</td>\n",
       "      <td>I am currently researching the trial roulette ...</td>\n",
       "      <td>108.0</td>\n",
       "      <td>2010-09-03T17:46:44.017</td>\n",
       "      <td>NaN</td>\n",
       "      <td>NaN</td>\n",
       "      <td>NaN</td>\n",
       "      <td>2</td>\n",
       "      <td>NaN</td>\n",
       "    </tr>\n",
       "  </tbody>\n",
       "</table>\n",
       "</div>"
      ],
      "text/plain": [
       "      Id  PostTypeId  ParentId  AcceptedAnswerId             CreationDate  \\\n",
       "142  154           2       1.0               NaN  2010-07-19T22:40:47.947   \n",
       "\n",
       "     Score  ViewCount                                               Body  \\\n",
       "142     25        NaN  I am currently researching the trial roulette ...   \n",
       "\n",
       "     OwnerUserId         LastActivityDate Title Tags  AnswerCount  \\\n",
       "142        108.0  2010-09-03T17:46:44.017   NaN  NaN          NaN   \n",
       "\n",
       "     CommentCount  FavoriteCount  \n",
       "142             2            NaN  "
      ]
     },
     "execution_count": 12,
     "metadata": {},
     "output_type": "execute_result"
    }
   ],
   "source": [
    "answer = 'Experts are given counters (or what one can think of as casino chips) representing equal densities whose total would sum up' # answer to question id = 1\n",
    "post_df.loc[post_df['Body'].apply(lambda x: answer in str(x))]"
   ]
  },
  {
   "cell_type": "markdown",
   "metadata": {},
   "source": [
    "### What are PostTypeIds?"
   ]
  },
  {
   "cell_type": "markdown",
   "metadata": {},
   "source": [
    "Only post with postTypeId = 1 have titles. Because only questions have titles and answers don't have title.  Or if PostTypeId != 1, then title is missing."
   ]
  },
  {
   "cell_type": "code",
   "execution_count": 13,
   "metadata": {},
   "outputs": [
    {
     "data": {
      "text/plain": [
       "True"
      ]
     },
     "execution_count": 13,
     "metadata": {},
     "output_type": "execute_result"
    }
   ],
   "source": [
    "sum(post_df[\"Title\"].isnull()) + 108954 == post_df.shape[0] # "
   ]
  },
  {
   "cell_type": "markdown",
   "metadata": {},
   "source": [
    "A guess: if PostTypeId is not 1 and 2, then they are answers and they are not accepted answers?"
   ]
  },
  {
   "cell_type": "code",
   "execution_count": 14,
   "metadata": {
    "collapsed": true
   },
   "outputs": [],
   "source": [
    "\n",
    "acceptedAnswerId = post_df['AcceptedAnswerId'].unique()"
   ]
  },
  {
   "cell_type": "code",
   "execution_count": 15,
   "metadata": {
    "collapsed": true
   },
   "outputs": [],
   "source": [
    "#34167 answers are accepted.\n",
    "len(acceptedAnswerId)\n",
    "not_accepted = post_df.loc[post_df['Id'].apply(lambda x: x not in acceptedAnswerId)]"
   ]
  },
  {
   "cell_type": "code",
   "execution_count": 16,
   "metadata": {},
   "outputs": [
    {
     "data": {
      "text/plain": [
       "array([1, 2, 7, 5, 4, 6, 3])"
      ]
     },
     "execution_count": 16,
     "metadata": {},
     "output_type": "execute_result"
    }
   ],
   "source": [
    "not_accepted['PostTypeId'].unique()"
   ]
  },
  {
   "cell_type": "markdown",
   "metadata": {},
   "source": [
    "So PostTypeId is not related to whether an answer is accepted or not.\n",
    "\n",
    "** What is it?**"
   ]
  },
  {
   "cell_type": "code",
   "execution_count": 17,
   "metadata": {},
   "outputs": [
    {
     "data": {
      "text/plain": [
       "2182    Use this tag for any *on-topic* question that ...\n",
       "2264    Mixed (aka multilevel or hierarchical) models ...\n",
       "2419    Psychometrics has evolved as a subfield of psy...\n",
       "2778    Model selection is a problem of judging which ...\n",
       "2780    Cluster analysis is the task of partitioning d...\n",
       "2782    Time series are data observed over time (eithe...\n",
       "2784    Hypothesis testing assesses whether data suppo...\n",
       "2935    Prediction of the future events. It is a speci...\n",
       "3714    Stata is a proprietary  cross-platform general...\n",
       "5647    IBM SPSS Statistics (formerly SPSS, i.e. \"Stat...\n",
       "Name: Body, dtype: object"
      ]
     },
     "execution_count": 17,
     "metadata": {},
     "output_type": "execute_result"
    }
   ],
   "source": [
    "post_df.loc[post_df['PostTypeId'] == 4]['Body'][0:10]"
   ]
  },
  {
   "cell_type": "markdown",
   "metadata": {},
   "source": [
    "### Question posts: "
   ]
  },
  {
   "cell_type": "code",
   "execution_count": 3,
   "metadata": {},
   "outputs": [
    {
     "data": {
      "text/html": [
       "<div>\n",
       "<table border=\"1\" class=\"dataframe\">\n",
       "  <thead>\n",
       "    <tr style=\"text-align: right;\">\n",
       "      <th></th>\n",
       "      <th>Id</th>\n",
       "      <th>Title</th>\n",
       "      <th>Body</th>\n",
       "    </tr>\n",
       "  </thead>\n",
       "  <tbody>\n",
       "    <tr>\n",
       "      <th>0</th>\n",
       "      <td>1</td>\n",
       "      <td>Eliciting priors from experts</td>\n",
       "      <td>How should I elicit prior distributions from e...</td>\n",
       "    </tr>\n",
       "    <tr>\n",
       "      <th>1</th>\n",
       "      <td>2</td>\n",
       "      <td>What is normality?</td>\n",
       "      <td>In many different statistical methods there is...</td>\n",
       "    </tr>\n",
       "    <tr>\n",
       "      <th>2</th>\n",
       "      <td>3</td>\n",
       "      <td>What are some valuable Statistical Analysis op...</td>\n",
       "      <td>What are some valuable Statistical Analysis op...</td>\n",
       "    </tr>\n",
       "    <tr>\n",
       "      <th>3</th>\n",
       "      <td>4</td>\n",
       "      <td>Assessing the significance of differences in d...</td>\n",
       "      <td>I have two groups of data.  Each with a differ...</td>\n",
       "    </tr>\n",
       "    <tr>\n",
       "      <th>5</th>\n",
       "      <td>6</td>\n",
       "      <td>The Two Cultures: statistics vs. machine learn...</td>\n",
       "      <td>Last year, I read a blog post from Brendan O'C...</td>\n",
       "    </tr>\n",
       "  </tbody>\n",
       "</table>\n",
       "</div>"
      ],
      "text/plain": [
       "   Id                                              Title  \\\n",
       "0   1                      Eliciting priors from experts   \n",
       "1   2                                 What is normality?   \n",
       "2   3  What are some valuable Statistical Analysis op...   \n",
       "3   4  Assessing the significance of differences in d...   \n",
       "5   6  The Two Cultures: statistics vs. machine learn...   \n",
       "\n",
       "                                                Body  \n",
       "0  How should I elicit prior distributions from e...  \n",
       "1  In many different statistical methods there is...  \n",
       "2  What are some valuable Statistical Analysis op...  \n",
       "3  I have two groups of data.  Each with a differ...  \n",
       "5  Last year, I read a blog post from Brendan O'C...  "
      ]
     },
     "execution_count": 3,
     "metadata": {},
     "output_type": "execute_result"
    }
   ],
   "source": [
    "Q_df = post_df.loc[post_df['PostTypeId'] == 1][['Id', 'Title','Body']]\n",
    "\n",
    "Q_df.head()"
   ]
  },
  {
   "cell_type": "markdown",
   "metadata": {},
   "source": [
    "### Answer posts:"
   ]
  },
  {
   "cell_type": "code",
   "execution_count": 4,
   "metadata": {},
   "outputs": [
    {
     "data": {
      "text/html": [
       "<div>\n",
       "<table border=\"1\" class=\"dataframe\">\n",
       "  <thead>\n",
       "    <tr style=\"text-align: right;\">\n",
       "      <th></th>\n",
       "      <th>Id</th>\n",
       "      <th>Body</th>\n",
       "    </tr>\n",
       "  </thead>\n",
       "  <tbody>\n",
       "    <tr>\n",
       "      <th>4</th>\n",
       "      <td>5</td>\n",
       "      <td>The R-project\\n\\nhttp://www.r-project.org/\\n\\n...</td>\n",
       "    </tr>\n",
       "    <tr>\n",
       "      <th>8</th>\n",
       "      <td>9</td>\n",
       "      <td>Incanter is a Clojure-based, R-like platform (...</td>\n",
       "    </tr>\n",
       "    <tr>\n",
       "      <th>11</th>\n",
       "      <td>12</td>\n",
       "      <td>See my response to \"Datasets for Running Stati...</td>\n",
       "    </tr>\n",
       "    <tr>\n",
       "      <th>12</th>\n",
       "      <td>13</td>\n",
       "      <td>Machine Learning seems to have its basis in th...</td>\n",
       "    </tr>\n",
       "    <tr>\n",
       "      <th>13</th>\n",
       "      <td>14</td>\n",
       "      <td>I second that Jay. Why is R valuable? Here's a...</td>\n",
       "    </tr>\n",
       "  </tbody>\n",
       "</table>\n",
       "</div>"
      ],
      "text/plain": [
       "    Id                                               Body\n",
       "4    5  The R-project\\n\\nhttp://www.r-project.org/\\n\\n...\n",
       "8    9  Incanter is a Clojure-based, R-like platform (...\n",
       "11  12  See my response to \"Datasets for Running Stati...\n",
       "12  13  Machine Learning seems to have its basis in th...\n",
       "13  14  I second that Jay. Why is R valuable? Here's a..."
      ]
     },
     "execution_count": 4,
     "metadata": {},
     "output_type": "execute_result"
    }
   ],
   "source": [
    "A_df =  post_df.loc[post_df['PostTypeId'] != 1][['Id', 'Body']]\n",
    "A_df.head()"
   ]
  },
  {
   "cell_type": "markdown",
   "metadata": {},
   "source": [
    "### original post data"
   ]
  },
  {
   "cell_type": "code",
   "execution_count": 5,
   "metadata": {},
   "outputs": [
    {
     "name": "stdout",
     "output_type": "stream",
     "text": [
      "0     How should I elicit prior distributions from e...\n",
      "1     In many different statistical methods there is...\n",
      "2     What are some valuable Statistical Analysis op...\n",
      "3     I have two groups of data.  Each with a differ...\n",
      "5     Last year, I read a blog post from Brendan O'C...\n",
      "6     I've been working on a new method for analyzin...\n",
      "7     Sorry, but the emptyness was a bit overwhelmin...\n",
      "9     Many studies in the social sciences use Likert...\n",
      "10    Is there a good, modern treatment covering the...\n",
      "16    I have four competing models which I use to pr...\n",
      "Name: Body, dtype: object\n",
      "4     The R-project\\n\\nhttp://www.r-project.org/\\n\\n...\n",
      "8     Incanter is a Clojure-based, R-like platform (...\n",
      "11    See my response to \"Datasets for Running Stati...\n",
      "12    Machine Learning seems to have its basis in th...\n",
      "13    I second that Jay. Why is R valuable? Here's a...\n",
      "14    John Cook gives some interesting recommendatio...\n",
      "15    Two projects spring to mind:\\n\\n\\nBugs - takin...\n",
      "17    Also see the UCI machine learning Data Reposit...\n",
      "18    Gapminder has a number (430 at the last look) ...\n",
      "19    The assumption of normality assumes your data ...\n",
      "Name: Body, dtype: object\n",
      "0                         Eliciting priors from experts\n",
      "1                                    What is normality?\n",
      "2     What are some valuable Statistical Analysis op...\n",
      "3     Assessing the significance of differences in d...\n",
      "5     The Two Cultures: statistics vs. machine learn...\n",
      "6                Locating freely available data samples\n",
      "7     So how many staticians *does* it take to screw...\n",
      "9     Under what conditions should Likert scales be ...\n",
      "10                Multivariate Interpolation Approaches\n",
      "16               How can I adapt ANOVA for binary data?\n",
      "Name: Title, dtype: object\n"
     ]
    }
   ],
   "source": [
    "original_q_posts = Q_df['Body']\n",
    "original_a_posts = A_df['Body']\n",
    "\n",
    "original_q_titles = Q_df['Title']\n",
    "\n",
    "\n",
    "print(original_q_posts[0:10])\n",
    "print(original_a_posts[0:10])\n",
    "\n",
    "print(original_q_titles[0:10])"
   ]
  },
  {
   "cell_type": "code",
   "execution_count": 6,
   "metadata": {},
   "outputs": [
    {
     "data": {
      "text/plain": [
       "(108954,)"
      ]
     },
     "execution_count": 6,
     "metadata": {},
     "output_type": "execute_result"
    }
   ],
   "source": [
    "original_q_titles.shape"
   ]
  },
  {
   "cell_type": "markdown",
   "metadata": {},
   "source": [
    "original_q_titles is series."
   ]
  },
  {
   "cell_type": "code",
   "execution_count": 25,
   "metadata": {
    "collapsed": true
   },
   "outputs": [],
   "source": [
    "thefile = open('./text/questions_body.txt', 'w')\n",
    "for post in original_q_posts:\n",
    "    post = str(post).replace('\\n', ' ')\n",
    "    post = re.sub(r\"\\$.*\\$\", \"\", post)\n",
    "    thefile.write(\"%s\\n\" % post)\n",
    "\n",
    "thefile = open('./text/answers_body.txt', 'w')\n",
    "for post in original_a_posts:\n",
    "    post = str(post).replace('\\n', ' ')\n",
    "    post = re.sub(r\"\\$.*\\$\", \"\", post)\n",
    "    thefile.write(\"%s\\n\" % post)\n",
    "\n",
    "thefile = open('./text/questions_title.txt', 'w')\n",
    "for i, post in enumerate(original_q_titles):\n",
    "    post = \"*\"+ str(i+1) + str(post).replace('\\n', \"\") \n",
    "    post = re.sub(r\"\\$.*\\$\", \"\", post)\n",
    "    thefile.write(\"%s\\n\" % post)\n",
    "    \n",
    "    "
   ]
  },
  {
   "cell_type": "markdown",
   "metadata": {},
   "source": [
    "### data preprocessing\n"
   ]
  },
  {
   "cell_type": "code",
   "execution_count": 7,
   "metadata": {
    "collapsed": true
   },
   "outputs": [],
   "source": [
    "def show_work_status(singleCount, totalCount, currentCount = 0):\n",
    "    currentCount += singleCount\n",
    "    percentage = currentCount/totalCount *100\n",
    "    status = \">\" * int(percentage) +  \" \" * (100-int(percentage))\n",
    "    sys.stdout.write('\\rStatus:[{0}] {1:.2f}%'.format(status, percentage))\n",
    "    sys.stdout.flush()\n",
    "    if percentage >= 100:\n",
    "    \tprint('\\n')"
   ]
  },
  {
   "cell_type": "code",
   "execution_count": 8,
   "metadata": {
    "collapsed": true
   },
   "outputs": [],
   "source": [
    "def read_corpus(fname, tokens_only=False):\n",
    "    with smart_open.smart_open(fname, encoding=\"iso-8859-1\") as f:\n",
    "        for i, line in enumerate(f):\n",
    "            if tokens_only:\n",
    "                \n",
    "                yield gensim.utils.simple_preprocess(line)\n",
    "                #This lowercases, tokenizes, de-accents (optional). – the output are final tokens = unicode strings, that won’t be processed any further.\n",
    "            else:\n",
    "                # For training data, add tags\n",
    "                yield gensim.models.doc2vec.TaggedDocument(gensim.utils.simple_preprocess(line), [i])\n"
   ]
  },
  {
   "cell_type": "code",
   "execution_count": 9,
   "metadata": {
    "collapsed": true
   },
   "outputs": [],
   "source": [
    "# It takes some time.\n",
    "fname = './text/'\n",
    "word2vec_question_title_corpus = list(read_corpus(fname + \"questions_title.txt\", tokens_only = True ))\n",
    "word2vec_question_corpus = list(read_corpus(fname + \"questions_body.txt\", tokens_only = True ))\n",
    "word2vec_answer_corpus = list(read_corpus(fname + \"answers_body.txt\", tokens_only = True ))"
   ]
  },
  {
   "cell_type": "code",
   "execution_count": 10,
   "metadata": {},
   "outputs": [
    {
     "name": "stdout",
     "output_type": "stream",
     "text": [
      "[['how', 'should', 'elicit', 'prior', 'distributions', 'from', 'experts', 'when', 'fitting', 'bayesian', 'model'], ['in', 'many', 'different', 'statistical', 'methods', 'there', 'is', 'an', 'assumption', 'of', 'normality', 'what', 'is', 'normality', 'and', 'how', 'do', 'know', 'if', 'there', 'is', 'normality'], ['what', 'are', 'some', 'valuable', 'statistical', 'analysis', 'open', 'source', 'projects', 'available', 'right', 'now', 'edit', 'as', 'pointed', 'out', 'by', 'sharpie', 'valuable', 'could', 'mean', 'helping', 'you', 'get', 'things', 'done', 'faster', 'or', 'more', 'cheaply']]\n",
      "[['the', 'project', 'http', 'www', 'project', 'org', 'is', 'valuable', 'and', 'significant', 'because', 'it', 'was', 'the', 'first', 'widely', 'accepted', 'open', 'source', 'alternative', 'to', 'big', 'box', 'packages', 'it', 'mature', 'well', 'supported', 'and', 'standard', 'within', 'many', 'scientific', 'communities', 'some', 'reasons', 'why', 'it', 'is', 'useful', 'and', 'valuable', 'there', 'are', 'some', 'nice', 'tutorials', 'here'], ['incanter', 'is', 'clojure', 'based', 'like', 'platform', 'environment', 'libraries', 'for', 'statistical', 'computing', 'and', 'graphics'], ['see', 'my', 'response', 'to', 'datasets', 'for', 'running', 'statistical', 'analysis', 'on', 'in', 'reference', 'to', 'datasets', 'in']]\n",
      "[['eliciting', 'priors', 'from', 'experts'], ['what', 'is', 'normality'], ['what', 'are', 'some', 'valuable', 'statistical', 'analysis', 'open', 'source', 'projects']]\n",
      "108954\n",
      "107008\n",
      "108954\n",
      "(108954, 3)\n",
      "(107008, 2)\n"
     ]
    }
   ],
   "source": [
    "print(word2vec_question_corpus[0:3])\n",
    "print(word2vec_answer_corpus[0:3])\n",
    "print(word2vec_question_title_corpus[0:3])\n",
    "\n",
    "print(len(word2vec_question_corpus))\n",
    "print(len(word2vec_answer_corpus))\n",
    "print(len(word2vec_question_title_corpus))\n",
    "\n",
    "print(Q_df.shape)\n",
    "print(A_df.shape)"
   ]
  },
  {
   "cell_type": "markdown",
   "metadata": {},
   "source": [
    "# Parameters for word2vec models:"
   ]
  },
  {
   "cell_type": "code",
   "execution_count": 11,
   "metadata": {},
   "outputs": [
    {
     "name": "stdout",
     "output_type": "stream",
     "text": [
      "[ 200.]\n",
      "[ 6.]\n",
      "[2]\n"
     ]
    }
   ],
   "source": [
    "#parameters\n",
    "sizes = np.linspace(200, 200, num = 1)\n",
    "print(sizes)\n",
    "windows = np.linspace(6, 6,num = 1 )\n",
    "print(windows)\n",
    "min_counts = [2]\n",
    "print(min_counts )"
   ]
  },
  {
   "cell_type": "markdown",
   "metadata": {},
   "source": [
    " Later make it more dense."
   ]
  },
  {
   "cell_type": "markdown",
   "metadata": {},
   "source": [
    "# Word2Vec Model"
   ]
  },
  {
   "cell_type": "code",
   "execution_count": null,
   "metadata": {
    "collapsed": true
   },
   "outputs": [],
   "source": [
    "# After tuning the model and find appropriate parameters, save them in the config file and read from the config file. \n",
    "# paras = json.loads(open('./configure/word2vec.json').read())\n",
    "# print(paras)\n",
    "\n",
    "# min_count = paras['min_count']\n",
    "# size = paras['size']\n",
    "# window = paras['window']\n",
    "# workers = paras['workers']\n",
    "# sg = paras['sg']\n",
    "# alpha = paras[\"alpha\"]\n",
    "# hs = paras[\"hs\"]\n",
    "# negative = paras[\"negative\"]\n"
   ]
  },
  {
   "cell_type": "code",
   "execution_count": 12,
   "metadata": {
    "collapsed": true
   },
   "outputs": [],
   "source": [
    "# note: sentence: a list of lists of words.\n",
    "# paras is a dictionary{ para: value, para: value}\n",
    "\n",
    "def train_word_model(sentences, modelname, **paras):\n",
    "    min_count = paras['min_count']\n",
    "    size = paras['size']\n",
    "    window = paras['window']\n",
    "    model = gensim.models.Word2Vec(sentences, min_count = min_count, size = size, window = window, workers = 4)\n",
    "    fname = './model/'+ modelname\n",
    "    model.save(fname)\n",
    "    return model\n",
    "\n",
    "def filter_corpus(sentences,model, doc = 0):\n",
    "    vocab = list(model.wv.vocab.keys())\n",
    "    print(vocab[0:10])\n",
    "    filtered_sentences = []\n",
    "    i = 0\n",
    "    total_count = len(sentences)\n",
    "    current_count = 0\n",
    "    for sentence in sentences:\n",
    "        i += 1\n",
    "        if i % 1000 == 0:\n",
    "            show_work_status(1000, total_count, current_count)\n",
    "            current_count += 1000\n",
    "        if doc == 0:\n",
    "            words = list(filter(lambda x: x in vocab, sentence))\n",
    "            #words = [word for word in words]\n",
    "        if doc == 1:\n",
    "            words = list(filter(lambda x: x in vocab, sentence.words))\n",
    "            #words = [word for word in words]\n",
    "        filtered_sentences.append(words)\n",
    "    return filtered_sentences\n",
    "\n",
    "\n",
    "def glance_word(model):\n",
    "    print(model)\n",
    "    print('*************most similar words to \\'vector\\'***************')\n",
    "    print(model.most_similar('vector'))\n",
    "    print('\\n')\n",
    "    print(\"**************Similarity of \\'probability\\' and \\'distribution\\'******************\")\n",
    "    print(model.similarity('probability','distribution'))\n",
    "    print('\\n')\n",
    "    print(\"**************Similarity of \\'gaussian\\' and \\'normal\\'******************\")\n",
    "    print(model.similarity('gaussian','normal'))\n",
    "    print('\\n')\n",
    "\n",
    "# topk pick the top k similar words.    \n",
    "\n",
    "# todo: filter_corpus is not related to model. It is only related to min_count. So it should be take out from evaluate_word_model.\n",
    "\n",
    "def evaluate_word_model(model,topk, min_count):\n",
    "    n =len(word2vec_question_corpus)\n",
    "    random.seed(2017)\n",
    "    doc_id = random.randint(0,n)\n",
    "    # pick up a question randomly and find similar questions.\n",
    "    if min_count == 1: # all words are in the vocab of the model.\n",
    "        word2vec_question_corpus_filter = word2vec_question_corpus\n",
    "    else:\n",
    "        word2vec_question_corpus_filter = filter_corpus(word2vec_question_corpus, model) \n",
    "    sen_interest = word2vec_question_corpus_filter[doc_id]\n",
    "    print('filtering is done.')\n",
    "    sims = []\n",
    "    current_n = 0\n",
    "    for i in range(int(len(Q_df['Body'])/1000)): # only compared with the first n questions. \n",
    "        compared_sen = word2vec_question_corpus_filter[i]\n",
    "        sim = model.wv.n_similarity(sen_interest, compared_sen)\n",
    "        sims.append(sim)\n",
    "    most_similar_index = heapq.nlargest(topk, range(len(sims)), key=sims.__getitem__)\n",
    "    print('*****************The question we are interested in is: ************************')\n",
    "    print(Q_df.iloc[doc_id]['Body'])\n",
    "    print(\"*******************Similar questions are **********************\")\n",
    "    for i in most_similar_index :\n",
    "        print(i)\n",
    "        print('similarity is ', sims[i])\n",
    "        print(Q_df.iloc[i]['Body'])\n",
    "        print(\"**********************\")\n",
    "    return sims, doc_id\n",
    "\n",
    "# word_vec_dic is a dictionary that stores the vectors of all words in the vocab of the word2vec model.\n",
    "def save_vectors(model):\n",
    "    word_vec_dic = {}\n",
    "    vocab = model.wv.vocab.keys()\n",
    "    for word in vocab:\n",
    "        word_vec_dic[word] = model[word]\n",
    "    return word_vec_dic "
   ]
  },
  {
   "cell_type": "markdown",
   "metadata": {},
   "source": [
    "### Training  models or loading models."
   ]
  },
  {
   "cell_type": "code",
   "execution_count": 13,
   "metadata": {
    "collapsed": true
   },
   "outputs": [],
   "source": [
    "# Tuning parameters on grids\n",
    "# train the models.\n",
    "# It takes a while. So we only train it once and next time, load the models using the code in the next block.\n",
    "models = {}\n",
    "for size in sizes:\n",
    "    for window in windows:\n",
    "        for min_count in min_counts:\n",
    "            paras =  {'size':int(size), 'window' : int(window), \"min_count\" :int(min_count)}\n",
    "            model_name = 'word2vector_model_question_answer_' + str(int(size))+\"_\"+str(int(window))+\"_\"+str(int(min_count))\n",
    "            models[model_name] = train_word_model(word2vec_question_corpus+word2vec_answer_corpus,model_name, **paras)"
   ]
  },
  {
   "cell_type": "code",
   "execution_count": null,
   "metadata": {
    "collapsed": true
   },
   "outputs": [],
   "source": [
    "# # load models\n",
    "# models = {}\n",
    "# for size in sizes:\n",
    "#     for window in windows:\n",
    "#         for min_count in min_counts:\n",
    "#             paras =  {'size':int(size), 'window' : int(window), \"min_count\" :int(min_count)}\n",
    "#             model_name = \"word2vector_model_question_answer_\"+str(int(size))+\"_\"+str(int(window))+\"_\"+str(int(min_count))\n",
    "#             models[model_name] = Word2Vec.load( './model/'+model_name)"
   ]
  },
  {
   "cell_type": "code",
   "execution_count": null,
   "metadata": {
    "collapsed": true,
    "scrolled": false
   },
   "outputs": [],
   "source": [
    "# # It is slow to run evaluate_word_model function. or slow to run filter function.\n",
    "# topk = 3\n",
    "# for size in sizes:\n",
    "#     for window in windows:\n",
    "#         for min_count in min_counts:\n",
    "#             paras =  {'size':int(size), 'window' : int(window), \"min_count\" :int(min_count)}\n",
    "#             model_name = 'word2vector_model_question_answer_' + str(int(size))+\"_\"+str(int(window))+\"_\"+str(int(min_count))\n",
    "#             model = models[model_name] \n",
    "#             glance_word(model)\n",
    "#             evaluate_word_model(model,topk, min_count)"
   ]
  },
  {
   "cell_type": "code",
   "execution_count": 14,
   "metadata": {},
   "outputs": [
    {
     "data": {
      "text/plain": [
       "dict_keys(['word2vector_model_question_answer_200_6_2'])"
      ]
     },
     "execution_count": 14,
     "metadata": {},
     "output_type": "execute_result"
    }
   ],
   "source": [
    "models.keys()"
   ]
  },
  {
   "cell_type": "code",
   "execution_count": 15,
   "metadata": {
    "collapsed": true
   },
   "outputs": [],
   "source": [
    "# save word vectors for all models in model_word_vec_dic, model_word_vec_df and also in csv form.\n",
    "model_word_vec_dic = {}\n",
    "model_word_vec_df = {}\n",
    "vocabs = {}\n",
    "for key in models.keys():\n",
    "    model_word_vec_dic[key] = save_vectors(models[key])\n",
    "    model_word_vec_df[key] = pd.DataFrame(model_word_vec_dic[key]).T\n",
    "    model_word_vec_df[key].to_csv('./word_vec/'+key+\".csv\")\n",
    "    vocabs[key] =  list(model_word_vec_df[key].index)"
   ]
  },
  {
   "cell_type": "code",
   "execution_count": 16,
   "metadata": {},
   "outputs": [
    {
     "name": "stdout",
     "output_type": "stream",
     "text": [
      "                 0         1         2         3         4         5    \\\n",
      "a_         -0.502157 -1.231525  1.501073 -0.824721  0.591714 -0.488768   \n",
      "a__        -0.044594 -0.024119  0.018766  0.024026 -0.028895 -0.022439   \n",
      "a_a         0.013455 -0.012830 -0.017656  0.014753  0.062009 -0.132435   \n",
      "a_adjusted  0.028670  0.020240  0.025201 -0.070229  0.012619 -0.078576   \n",
      "a_and_b     0.114285  0.039049  0.213730 -0.080442 -0.088148 -0.197033   \n",
      "\n",
      "                 6         7         8         9      ...          190  \\\n",
      "a_          0.903779 -0.038645  0.459253 -0.485186    ...     0.276586   \n",
      "a__         0.013539  0.007449  0.006484 -0.009192    ...     0.024952   \n",
      "a_a         0.068699  0.045951  0.074507 -0.035419    ...    -0.028048   \n",
      "a_adjusted  0.051204  0.040304  0.027123  0.021348    ...    -0.016276   \n",
      "a_and_b     0.049060  0.106649 -0.017760 -0.002527    ...    -0.111197   \n",
      "\n",
      "                 191       192       193       194       195       196  \\\n",
      "a_         -0.661979  0.297288  0.136056 -0.305163  1.396190 -0.239185   \n",
      "a__        -0.038260 -0.004415 -0.019359 -0.053633 -0.015187  0.011295   \n",
      "a_a         0.040826  0.069079  0.088605  0.082241  0.211491  0.126767   \n",
      "a_adjusted  0.008707 -0.060311  0.086649  0.062956  0.068462  0.053034   \n",
      "a_and_b     0.030113 -0.044530  0.090094  0.085388  0.165226  0.098310   \n",
      "\n",
      "                 197       198       199  \n",
      "a_          1.228788  0.333640  0.492632  \n",
      "a__        -0.014313  0.038858 -0.030853  \n",
      "a_a         0.039316 -0.028075 -0.026345  \n",
      "a_adjusted  0.037799 -0.016378  0.058798  \n",
      "a_and_b     0.086020 -0.143789 -0.047890  \n",
      "\n",
      "[5 rows x 200 columns]\n",
      "(87750, 200)\n",
      "['a_', 'a__', 'a_a', 'a_adjusted', 'a_and_b', 'a_anom', 'a_answers', 'a_arclength', 'a_b', 'a_bo']\n"
     ]
    }
   ],
   "source": [
    "print(model_word_vec_df[list(model_word_vec_df.keys())[0]].head())\n",
    "print(model_word_vec_df[list(model_word_vec_df.keys())[0]].shape)\n",
    "print(vocabs[list(model_word_vec_df.keys())[0]][0:10])"
   ]
  },
  {
   "cell_type": "markdown",
   "metadata": {},
   "source": [
    "From vectors of words, how to get the vectors of docs? n_similarity uses the mean of the vectors of all words in the doc. We will use the tf-idf weighted vector. "
   ]
  },
  {
   "cell_type": "markdown",
   "metadata": {},
   "source": [
    "## Getting tf_idf of all words  in the vocab in all documents as weights  for all models.\n",
    "They are to be the weights of the words when we calculate the vector of docs."
   ]
  },
  {
   "cell_type": "code",
   "execution_count": 18,
   "metadata": {},
   "outputs": [
    {
     "name": "stdout",
     "output_type": "stream",
     "text": [
      "word2vector_model_question_answer_200_6_2\n"
     ]
    }
   ],
   "source": [
    "# now we only use the second model as an example. The other one is similar: only reset paras and key.\n",
    "size =200\n",
    "min_count = 2\n",
    "window = 6\n",
    "# It corresponds to the second model key.\n",
    "\n",
    "key = list(models.keys())[0]\n",
    "print(key)\n",
    "vocab = vocabs[key]"
   ]
  },
  {
   "cell_type": "code",
   "execution_count": 20,
   "metadata": {},
   "outputs": [
    {
     "name": "stdout",
     "output_type": "stream",
     "text": [
      "how should elicit prior distributions from experts when fitting bayesian model\n"
     ]
    }
   ],
   "source": [
    "corpus = []\n",
    "for post in word2vec_question_corpus + word2vec_answer_corpus:\n",
    "    corpus.append(\" \".join(post))\n",
    "\n",
    "print(corpus[0])"
   ]
  },
  {
   "cell_type": "code",
   "execution_count": 21,
   "metadata": {},
   "outputs": [
    {
     "data": {
      "text/plain": [
       "(215962, 87750)"
      ]
     },
     "execution_count": 21,
     "metadata": {},
     "output_type": "execute_result"
    }
   ],
   "source": [
    "vectorizer = TfidfVectorizer(min_df=1, vocabulary=vocab)\n",
    "X = vectorizer.fit_transform(corpus)\n",
    "X.shape"
   ]
  },
  {
   "cell_type": "markdown",
   "metadata": {},
   "source": [
    "## Get weighted vectors for all documents."
   ]
  },
  {
   "cell_type": "code",
   "execution_count": 22,
   "metadata": {},
   "outputs": [
    {
     "data": {
      "text/html": [
       "<div>\n",
       "<table border=\"1\" class=\"dataframe\">\n",
       "  <thead>\n",
       "    <tr style=\"text-align: right;\">\n",
       "      <th></th>\n",
       "      <th>0</th>\n",
       "      <th>1</th>\n",
       "      <th>2</th>\n",
       "      <th>3</th>\n",
       "      <th>4</th>\n",
       "      <th>5</th>\n",
       "      <th>6</th>\n",
       "      <th>7</th>\n",
       "      <th>8</th>\n",
       "      <th>9</th>\n",
       "      <th>...</th>\n",
       "      <th>190</th>\n",
       "      <th>191</th>\n",
       "      <th>192</th>\n",
       "      <th>193</th>\n",
       "      <th>194</th>\n",
       "      <th>195</th>\n",
       "      <th>196</th>\n",
       "      <th>197</th>\n",
       "      <th>198</th>\n",
       "      <th>199</th>\n",
       "    </tr>\n",
       "  </thead>\n",
       "  <tbody>\n",
       "    <tr>\n",
       "      <th>a_</th>\n",
       "      <td>-0.502157</td>\n",
       "      <td>-1.231525</td>\n",
       "      <td>1.501073</td>\n",
       "      <td>-0.824721</td>\n",
       "      <td>0.591714</td>\n",
       "      <td>-0.488768</td>\n",
       "      <td>0.903779</td>\n",
       "      <td>-0.038645</td>\n",
       "      <td>0.459253</td>\n",
       "      <td>-0.485186</td>\n",
       "      <td>...</td>\n",
       "      <td>0.276586</td>\n",
       "      <td>-0.661979</td>\n",
       "      <td>0.297288</td>\n",
       "      <td>0.136056</td>\n",
       "      <td>-0.305163</td>\n",
       "      <td>1.396190</td>\n",
       "      <td>-0.239185</td>\n",
       "      <td>1.228788</td>\n",
       "      <td>0.333640</td>\n",
       "      <td>0.492632</td>\n",
       "    </tr>\n",
       "    <tr>\n",
       "      <th>a__</th>\n",
       "      <td>-0.044594</td>\n",
       "      <td>-0.024119</td>\n",
       "      <td>0.018766</td>\n",
       "      <td>0.024026</td>\n",
       "      <td>-0.028895</td>\n",
       "      <td>-0.022439</td>\n",
       "      <td>0.013539</td>\n",
       "      <td>0.007449</td>\n",
       "      <td>0.006484</td>\n",
       "      <td>-0.009192</td>\n",
       "      <td>...</td>\n",
       "      <td>0.024952</td>\n",
       "      <td>-0.038260</td>\n",
       "      <td>-0.004415</td>\n",
       "      <td>-0.019359</td>\n",
       "      <td>-0.053633</td>\n",
       "      <td>-0.015187</td>\n",
       "      <td>0.011295</td>\n",
       "      <td>-0.014313</td>\n",
       "      <td>0.038858</td>\n",
       "      <td>-0.030853</td>\n",
       "    </tr>\n",
       "    <tr>\n",
       "      <th>a_a</th>\n",
       "      <td>0.013455</td>\n",
       "      <td>-0.012830</td>\n",
       "      <td>-0.017656</td>\n",
       "      <td>0.014753</td>\n",
       "      <td>0.062009</td>\n",
       "      <td>-0.132435</td>\n",
       "      <td>0.068699</td>\n",
       "      <td>0.045951</td>\n",
       "      <td>0.074507</td>\n",
       "      <td>-0.035419</td>\n",
       "      <td>...</td>\n",
       "      <td>-0.028048</td>\n",
       "      <td>0.040826</td>\n",
       "      <td>0.069079</td>\n",
       "      <td>0.088605</td>\n",
       "      <td>0.082241</td>\n",
       "      <td>0.211491</td>\n",
       "      <td>0.126767</td>\n",
       "      <td>0.039316</td>\n",
       "      <td>-0.028075</td>\n",
       "      <td>-0.026345</td>\n",
       "    </tr>\n",
       "    <tr>\n",
       "      <th>a_adjusted</th>\n",
       "      <td>0.028670</td>\n",
       "      <td>0.020240</td>\n",
       "      <td>0.025201</td>\n",
       "      <td>-0.070229</td>\n",
       "      <td>0.012619</td>\n",
       "      <td>-0.078576</td>\n",
       "      <td>0.051204</td>\n",
       "      <td>0.040304</td>\n",
       "      <td>0.027123</td>\n",
       "      <td>0.021348</td>\n",
       "      <td>...</td>\n",
       "      <td>-0.016276</td>\n",
       "      <td>0.008707</td>\n",
       "      <td>-0.060311</td>\n",
       "      <td>0.086649</td>\n",
       "      <td>0.062956</td>\n",
       "      <td>0.068462</td>\n",
       "      <td>0.053034</td>\n",
       "      <td>0.037799</td>\n",
       "      <td>-0.016378</td>\n",
       "      <td>0.058798</td>\n",
       "    </tr>\n",
       "    <tr>\n",
       "      <th>a_and_b</th>\n",
       "      <td>0.114285</td>\n",
       "      <td>0.039049</td>\n",
       "      <td>0.213730</td>\n",
       "      <td>-0.080442</td>\n",
       "      <td>-0.088148</td>\n",
       "      <td>-0.197033</td>\n",
       "      <td>0.049060</td>\n",
       "      <td>0.106649</td>\n",
       "      <td>-0.017760</td>\n",
       "      <td>-0.002527</td>\n",
       "      <td>...</td>\n",
       "      <td>-0.111197</td>\n",
       "      <td>0.030113</td>\n",
       "      <td>-0.044530</td>\n",
       "      <td>0.090094</td>\n",
       "      <td>0.085388</td>\n",
       "      <td>0.165226</td>\n",
       "      <td>0.098310</td>\n",
       "      <td>0.086020</td>\n",
       "      <td>-0.143789</td>\n",
       "      <td>-0.047890</td>\n",
       "    </tr>\n",
       "  </tbody>\n",
       "</table>\n",
       "<p>5 rows × 200 columns</p>\n",
       "</div>"
      ],
      "text/plain": [
       "                 0         1         2         3         4         5    \\\n",
       "a_         -0.502157 -1.231525  1.501073 -0.824721  0.591714 -0.488768   \n",
       "a__        -0.044594 -0.024119  0.018766  0.024026 -0.028895 -0.022439   \n",
       "a_a         0.013455 -0.012830 -0.017656  0.014753  0.062009 -0.132435   \n",
       "a_adjusted  0.028670  0.020240  0.025201 -0.070229  0.012619 -0.078576   \n",
       "a_and_b     0.114285  0.039049  0.213730 -0.080442 -0.088148 -0.197033   \n",
       "\n",
       "                 6         7         8         9      ...          190  \\\n",
       "a_          0.903779 -0.038645  0.459253 -0.485186    ...     0.276586   \n",
       "a__         0.013539  0.007449  0.006484 -0.009192    ...     0.024952   \n",
       "a_a         0.068699  0.045951  0.074507 -0.035419    ...    -0.028048   \n",
       "a_adjusted  0.051204  0.040304  0.027123  0.021348    ...    -0.016276   \n",
       "a_and_b     0.049060  0.106649 -0.017760 -0.002527    ...    -0.111197   \n",
       "\n",
       "                 191       192       193       194       195       196  \\\n",
       "a_         -0.661979  0.297288  0.136056 -0.305163  1.396190 -0.239185   \n",
       "a__        -0.038260 -0.004415 -0.019359 -0.053633 -0.015187  0.011295   \n",
       "a_a         0.040826  0.069079  0.088605  0.082241  0.211491  0.126767   \n",
       "a_adjusted  0.008707 -0.060311  0.086649  0.062956  0.068462  0.053034   \n",
       "a_and_b     0.030113 -0.044530  0.090094  0.085388  0.165226  0.098310   \n",
       "\n",
       "                 197       198       199  \n",
       "a_          1.228788  0.333640  0.492632  \n",
       "a__        -0.014313  0.038858 -0.030853  \n",
       "a_a         0.039316 -0.028075 -0.026345  \n",
       "a_adjusted  0.037799 -0.016378  0.058798  \n",
       "a_and_b     0.086020 -0.143789 -0.047890  \n",
       "\n",
       "[5 rows x 200 columns]"
      ]
     },
     "execution_count": 22,
     "metadata": {},
     "output_type": "execute_result"
    }
   ],
   "source": [
    "model_word_vec_df[key].head() "
   ]
  },
  {
   "cell_type": "code",
   "execution_count": 23,
   "metadata": {},
   "outputs": [
    {
     "data": {
      "text/plain": [
       "(87750, 200)"
      ]
     },
     "execution_count": 23,
     "metadata": {},
     "output_type": "execute_result"
    }
   ],
   "source": [
    "model_word_vec_df[key].shape"
   ]
  },
  {
   "cell_type": "code",
   "execution_count": 24,
   "metadata": {
    "collapsed": true
   },
   "outputs": [],
   "source": [
    "# save the vocab from tf_idf vectorizer for future reference.\n",
    "import csv\n",
    "fname = './vocab_dict/vocab_dict_question_answer_'+str(int(size))+\"_\"+str(int(window))+\"_\"+str(int(min_count))+'.csv'\n",
    "with open(fname, 'w') as csv_file:\n",
    "    writer = csv.writer(csv_file)\n",
    "    for key, value in vectorizer.vocabulary_.items():\n",
    "        writer.writerow([key, value])"
   ]
  },
  {
   "cell_type": "code",
   "execution_count": null,
   "metadata": {
    "collapsed": true
   },
   "outputs": [],
   "source": []
  },
  {
   "cell_type": "code",
   "execution_count": 25,
   "metadata": {},
   "outputs": [
    {
     "data": {
      "text/plain": [
       "87750"
      ]
     },
     "execution_count": 25,
     "metadata": {},
     "output_type": "execute_result"
    }
   ],
   "source": [
    "len(vectorizer.vocabulary_)"
   ]
  },
  {
   "cell_type": "code",
   "execution_count": null,
   "metadata": {
    "collapsed": true
   },
   "outputs": [],
   "source": [
    "# # The number of nonzero elements in a row in X should equal to the number \n",
    "# # of unique words in the corresponding doc or word2vec_question_corpus. \n",
    "# # The funciton check is used to check this.\n",
    "\n",
    "# def check(key,i): # ith documents. doc_corpus a list of words\n",
    "#     doc_corpus = word2vec_question_corpus[i]\n",
    "#     df = model_word_vec_df[key]\n",
    "#     related_rows = df.loc[sorted(list(set(doc_corpus).intersection(set(vocab)))), :]  \n",
    "#     words_index = set(np.where(df.index.isin(set(doc_corpus).intersection(set(vocab))))[0])\n",
    "#     # print(related_rows.T)\n",
    "#     weights_index = []\n",
    "#     ind = sorted(X[i,:].nonzero()[1])\n",
    "#     for j in ind:\n",
    "#         weights_index.append(j)\n",
    "   \n",
    "#     if len(weights_index) - len(words_index) != 0:\n",
    "#         print(i)\n",
    "#         print(weights_index)\n",
    "#         print(words_index)\n",
    "#     if related_rows.shape[0] != len(weights_index):\n",
    "#         print(i)\n",
    "#         print(\"*********\")\n",
    "#     return \n",
    "    "
   ]
  },
  {
   "cell_type": "code",
   "execution_count": null,
   "metadata": {
    "collapsed": true
   },
   "outputs": [],
   "source": [
    "key = list(models.keys())[1]\n",
    "print(key)"
   ]
  },
  {
   "cell_type": "code",
   "execution_count": null,
   "metadata": {
    "collapsed": true
   },
   "outputs": [],
   "source": [
    "# total = Q_df.shape[0]\n",
    "# current = 0\n",
    "# for i in range(Q_df.shape[0]):\n",
    "#     check(key,i)\n",
    "    \n",
    "    "
   ]
  },
  {
   "cell_type": "code",
   "execution_count": null,
   "metadata": {
    "collapsed": true
   },
   "outputs": [],
   "source": [
    "# #vectorizer.vocabulary_['a_']  # =0\n",
    "# model_word_vec_df[key].index[0] # = 'a_'"
   ]
  },
  {
   "cell_type": "code",
   "execution_count": null,
   "metadata": {
    "collapsed": true
   },
   "outputs": [],
   "source": [
    "def save_obj(obj, name ):\n",
    "    with open('doc_vec/'+ name + '.pkl', 'wb') as f:\n",
    "        pickle.dump(obj, f)\n",
    "\n",
    "def load_obj(name ):\n",
    "    with open('doc_vec/' + name + '.pkl', 'rb') as f:\n",
    "        return pickle.load(f)"
   ]
  },
  {
   "cell_type": "code",
   "execution_count": null,
   "metadata": {
    "collapsed": true
   },
   "outputs": [],
   "source": [
    "ind = sorted(X[0,:].nonzero()[1])\n",
    "print(len(ind))\n",
    "for i in range(11):\n",
    "    print(ind[i]== vectorizer.vocabulary_[list(related_rows.index)[i]])\n",
    "    "
   ]
  },
  {
   "cell_type": "code",
   "execution_count": null,
   "metadata": {
    "collapsed": true
   },
   "outputs": [],
   "source": [
    "# ith documents. doc_corpus a list of words \n",
    "# only do this for questions\n",
    "def get_doc_weighted_vec(key,i, weighted = True): \n",
    "    doc_corpus = word2vec_question_corpus[i]\n",
    "    df = model_word_vec_df[key]\n",
    "    related_rows = df.loc[sorted(list(set(doc_corpus).intersection(set(vocab)))), :] \n",
    "    \n",
    "    if weighted:\n",
    "        weights = []\n",
    "        ind = sorted(X[i,:].nonzero()[1]) # words index \n",
    "# One should check this. But it is very slow. I checked half of all question posts and they are valid. \n",
    "#         if sum([vectorizer.vocabulary_[related_rows.index[j]] != ind[j] for j in range(len(ind))]) != 0:\n",
    "#             print(\"words position don't match\")\n",
    "#             return \n",
    "\n",
    "        weights = [X[i, ind[j]] for j in range(len(ind))]        \n",
    "        weights = np.array(weights)/sum(weights) # scale so the sum of weights is one.\n",
    "    else:\n",
    "        # to correct: some words may appear more than once. But since we are only interested in the weighted vec, I will correct this later.\n",
    "        weights = [1/related_rows.shape[0]] * related_rows.shape[0] \n",
    " \n",
    "\n",
    "    result = related_rows.T * weights\n",
    "    return result.sum(axis = 1) # weighted sum as the doc vector."
   ]
  },
  {
   "cell_type": "code",
   "execution_count": null,
   "metadata": {
    "collapsed": true,
    "scrolled": false
   },
   "outputs": [],
   "source": [
    "questions_vec_weighted = []\n",
    "total = len(word2vec_question_corpus)\n",
    "current = 0\n",
    "for i in range(len(word2vec_question_corpus)):\n",
    "    show_work_status(1, total, current)\n",
    "    current += 1\n",
    "    questions_vec_weighted.append(get_doc_weighted_vec(key,i))\n",
    "\n",
    "\n",
    "print(len(questions_vec_weighted))\n",
    "print(len(questions_vec_weighted[0]))\n",
    "\n",
    "# save questions_vec_weighted\n",
    "save_obj(questions_vec_weighted, \"questions_weighted_vec_\"+key)\n",
    "questions_vec_weighted = load_obj(\"questions_weighted_vec_\"+key)\n",
    "\n",
    "print(len(questions_vec_weighted))\n",
    "print(len(questions_vec_weighted[0]))\n",
    "\n",
    "questions_vec_weighted_df = pd.DataFrame(questions_vec_weighted)\n",
    "print(questions_vec_weighted_df.head())\n",
    "print(questions_vec_weighted_df.shape)\n",
    "\n",
    "questions_vec_weighted_df.to_csv('doc_vec/questions_weighted_vec_'+key+'.csv')"
   ]
  },
  {
   "cell_type": "code",
   "execution_count": null,
   "metadata": {
    "collapsed": true
   },
   "outputs": [],
   "source": []
  }
 ],
 "metadata": {
  "anaconda-cloud": {},
  "kernelspec": {
   "display_name": "Python 3",
   "language": "python",
   "name": "python3"
  },
  "language_info": {
   "codemirror_mode": {
    "name": "ipython",
    "version": 3
   },
   "file_extension": ".py",
   "mimetype": "text/x-python",
   "name": "python",
   "nbconvert_exporter": "python",
   "pygments_lexer": "ipython3",
   "version": "3.6.0"
  }
 },
 "nbformat": 4,
 "nbformat_minor": 1
}
