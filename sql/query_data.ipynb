{
 "cells": [
  {
   "cell_type": "code",
   "execution_count": 1,
   "metadata": {
    "collapsed": false
   },
   "outputs": [
    {
     "name": "stdout",
     "output_type": "stream",
     "text": [
      "1\n",
      "1\n"
     ]
    }
   ],
   "source": [
    "from sqlalchemy_declarative import bot_survey_responses, Base, bot_survey_response_answers\n",
    "from sqlalchemy import create_engine\n",
    "engine = create_engine(\"sqlite:///user_responses.db\")\n",
    "Base.metadata.bind = engine\n",
    "from sqlalchemy.orm import sessionmaker\n"
   ]
  },
  {
   "cell_type": "code",
   "execution_count": null,
   "metadata": {
    "collapsed": true
   },
   "outputs": [],
   "source": [
    "DBSession = sessionmaker()\n",
    "DBSession.bind = engine\n",
    "session = DBSession()\n",
    "# Make a query to find all Persons in the database\n",
    "session.query(bot_survey_responses).all()\n",
    "\n",
    "# Return the first Person from all Persons in the database\n",
    "answer = session.query(bot_survey_response_answers).first()\n",
    "print(answer.response_id)\n",
    "\n",
    "answer_filter = session.query(bot_survey_response_answers).filter(bot_survey_response_answers.response_id == 1).all()\n",
    "print(answer_filter[0].response_id)\n",
    "# # Retrieve one Address whose person field is point to the person object\n",
    "# session.query(Address).filter(Address.person == person).one()\n",
    "# address = session.query(Address).filter(Address.person == person).one()\n",
    "# address.post_code\n"
   ]
  }
 ],
 "metadata": {
  "anaconda-cloud": {},
  "kernelspec": {
   "display_name": "Python [Root]",
   "language": "python",
   "name": "Python [Root]"
  },
  "language_info": {
   "codemirror_mode": {
    "name": "ipython",
    "version": 3
   },
   "file_extension": ".py",
   "mimetype": "text/x-python",
   "name": "python",
   "nbconvert_exporter": "python",
   "pygments_lexer": "ipython3",
   "version": "3.5.4"
  }
 },
 "nbformat": 4,
 "nbformat_minor": 0
}
