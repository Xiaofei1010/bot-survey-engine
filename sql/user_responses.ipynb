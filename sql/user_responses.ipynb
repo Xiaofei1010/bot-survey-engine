{
 "cells": [
  {
   "cell_type": "code",
   "execution_count": 1,
   "metadata": {
    "collapsed": false
   },
   "outputs": [],
   "source": [
    "import sqlalchemy\n",
    "\n",
    "\n",
    "from sqlalchemy.orm import sessionmaker\n",
    "\n",
    "\n",
    "with open (\"mysql_password.txt\", \"r\") as myfile:\n",
    "    password=myfile.readlines()[0]\n",
    "\n",
    "#engine_internal = sqlalchemy.create_engine(\"mysql+mysqlconnector://%s:%s@%s/%s\" % (\"xiaofei\", password, \"iupdated.com:3306\",\"user_response_answer\"),pool_size=3, pool_recycle=3600)\n",
    "engine_internal = sqlalchemy.create_engine(\"sqlite:///user_responses.db\")\n",
    "\n",
    "\n",
    "Internal = sessionmaker(bind=engine_internal)\n",
    "\n",
    "internal = Internal()\n",
    "\n"
   ]
  },
  {
   "cell_type": "markdown",
   "metadata": {},
   "source": [
    "# Create Tables"
   ]
  },
  {
   "cell_type": "markdown",
   "metadata": {},
   "source": [
    "### bot_survey_responses"
   ]
  },
  {
   "cell_type": "code",
   "execution_count": 2,
   "metadata": {
    "collapsed": true
   },
   "outputs": [],
   "source": [
    "query_create = \"\"\"\n",
    "CREATE TABLE bot_survey_responses(\n",
    " response_id int,\n",
    " user_id int,\n",
    " response_start_time TIMESTAMP not null,\n",
    " response_end_time TIMESTAMP not null,\n",
    " primary key (response_id)\n",
    ");\n",
    "\"\"\"\n",
    "\n"
   ]
  },
  {
   "cell_type": "code",
   "execution_count": 3,
   "metadata": {
    "collapsed": false
   },
   "outputs": [
    {
     "name": "stdout",
     "output_type": "stream",
     "text": [
      "done\n"
     ]
    }
   ],
   "source": [
    "try:\n",
    "    internal.execute(\"\"\"DROP TABLE IF EXISTS bot_survey_responses;\"\"\")\n",
    "    internal.execute(query_create)\n",
    "    internal.commit()\n",
    "    print( \"done\")\n",
    "except:\n",
    "    print( \"failed\")\n",
    "finally:\n",
    "    internal.close()"
   ]
  },
  {
   "cell_type": "code",
   "execution_count": 4,
   "metadata": {
    "collapsed": true
   },
   "outputs": [],
   "source": [
    "query_create =\"\"\"\n",
    "CREATE TABLE bot_survey_response_answers(\n",
    "response_id int not null,\n",
    "answer_id int not null,\n",
    "user_id int not null,\n",
    "question_id int,\n",
    "question_order int,\n",
    "answer_submit_time TIMESTAMP not null,\n",
    "answer_text varchar(1024) not null,\n",
    "FOREIGN KEY (response_id) REFERENCES bot_survey_responses(response_id)\n",
    ");\n",
    "\"\"\"\n"
   ]
  },
  {
   "cell_type": "code",
   "execution_count": 5,
   "metadata": {
    "collapsed": false
   },
   "outputs": [
    {
     "name": "stdout",
     "output_type": "stream",
     "text": [
      "done\n"
     ]
    }
   ],
   "source": [
    "try:\n",
    "    internal.execute(\"\"\"DROP TABLE IF EXISTS bot_survey_response_answers;\"\"\")\n",
    "    internal.execute(query_create)\n",
    "    internal.commit()\n",
    "    print( \"done\")\n",
    "except:\n",
    "    print( \"failed\")\n",
    "finally:\n",
    "    internal.close()"
   ]
  },
  {
   "cell_type": "markdown",
   "metadata": {},
   "source": [
    "# Insert "
   ]
  },
  {
   "cell_type": "markdown",
   "metadata": {},
   "source": [
    "#### Functions to be defined"
   ]
  },
  {
   "cell_type": "code",
   "execution_count": 6,
   "metadata": {
    "collapsed": false
   },
   "outputs": [],
   "source": [
    "# def get_response(response_info):\n",
    "#     '''\n",
    "#     write a function to get all the information we need of a response \n",
    "    \n",
    "#     '''\n",
    "#     return user_id, response_start_time, response_end_time\n",
    "\n",
    "# user_id, response_start_time, response_end_time = get_response(response_info)\n",
    "    \n",
    "\n",
    "\n",
    "user_id = 1\n",
    "response_start_time = \"2017-08-10 10:20:10\"\n",
    "response_end_time = \"2017-08-10 10:20:30\"\n",
    "\n"
   ]
  },
  {
   "cell_type": "markdown",
   "metadata": {},
   "source": [
    "#### test insert"
   ]
  },
  {
   "cell_type": "code",
   "execution_count": 7,
   "metadata": {
    "collapsed": false
   },
   "outputs": [
    {
     "data": {
      "text/plain": [
       "<sqlalchemy.engine.result.ResultProxy at 0x104c29550>"
      ]
     },
     "execution_count": 7,
     "metadata": {},
     "output_type": "execute_result"
    }
   ],
   "source": [
    "\n",
    "template = \"INSERT INTO bot_survey_responses (user_id, response_start_time, response_end_time) VALUES('{user_id}', '{response_start_time}', '{response_end_time}')\"\n",
    "query = template.format(user_id=user_id, response_start_time=response_start_time, response_end_time=response_end_time)\n",
    "internal.execute(query)"
   ]
  },
  {
   "cell_type": "code",
   "execution_count": null,
   "metadata": {
    "collapsed": true
   },
   "outputs": [],
   "source": []
  },
  {
   "cell_type": "markdown",
   "metadata": {},
   "source": [
    "#### Function to be defined"
   ]
  },
  {
   "cell_type": "code",
   "execution_count": 8,
   "metadata": {
    "collapsed": true
   },
   "outputs": [],
   "source": [
    "def get_answer(answer_info):\n",
    "    '''\n",
    "    write a function to get all the information we need of an answer \n",
    "    \n",
    "    '''\n",
    "    return response_id, answer_id, user_id, question_id, question_order, answer_submit_time, answer_text\n",
    "\n",
    "\n",
    "# response_id, answer_id, user_id, question_id, question_order, answer_submit_time, answer_text = get_answer(answer_info)\n"
   ]
  },
  {
   "cell_type": "markdown",
   "metadata": {},
   "source": [
    "#### test insert"
   ]
  },
  {
   "cell_type": "code",
   "execution_count": 9,
   "metadata": {
    "collapsed": true
   },
   "outputs": [],
   "source": [
    "response_id = 1\n",
    "answer_id  = 20\n",
    "user_id =2\n",
    "question_id = 1\n",
    "question_order = 1\n",
    "answer_submit_time = \"2017-08-31 11:20:30\"\n",
    "answer_text = \"Two years ago.\"\n"
   ]
  },
  {
   "cell_type": "code",
   "execution_count": 10,
   "metadata": {
    "collapsed": false
   },
   "outputs": [
    {
     "data": {
      "text/plain": [
       "<sqlalchemy.engine.result.ResultProxy at 0x104c29978>"
      ]
     },
     "execution_count": 10,
     "metadata": {},
     "output_type": "execute_result"
    }
   ],
   "source": [
    "template = \"INSERT INTO bot_survey_response_answers (response_id, answer_id, user_id, question_id, question_order, answer_submit_time, answer_text) VALUES('{response_id}', '{answer_id}', '{user_id}', '{question_id}', '{question_order}', '{answer_submit_time}', '{answer_text}')\"\n",
    "query = template.format(response_id=response_id, answer_id=answer_id, user_id=user_id, question_id=question_id, question_order=question_order, answer_submit_time=answer_submit_time, answer_text=answer_text)\n",
    "internal.execute(query)"
   ]
  }
 ],
 "metadata": {
  "kernelspec": {
   "display_name": "Python [Root]",
   "language": "python",
   "name": "Python [Root]"
  },
  "language_info": {
   "codemirror_mode": {
    "name": "ipython",
    "version": 3
   },
   "file_extension": ".py",
   "mimetype": "text/x-python",
   "name": "python",
   "nbconvert_exporter": "python",
   "pygments_lexer": "ipython3",
   "version": "3.5.4"
  }
 },
 "nbformat": 4,
 "nbformat_minor": 0
}
